{
 "cells": [
  {
   "cell_type": "code",
   "execution_count": null,
   "metadata": {
    "vscode": {
     "languageId": "plaintext"
    }
   },
   "outputs": [],
   "source": [
    "AI Advatars\n",
    "\n",
    "Use AI to evaluate an advertising creative against the most likely buyer personas. This colab walks you out through \n",
    "the step by step process so we can get ideas, customize them, and build your own client specific avatars\n",
    "\n",
    "1. Configure Gemini AI to drive the avatars.\n",
    "2. Star with a product description.\n",
    "3. Gemini will find the best avatars to evaluate\n",
    "4. Reliably move the avatars into Python structures\n",
    "5. Use each avatar to:\n",
    "\n",
    "a. Evaluate an existing image creative to get edit suggestions.\n",
    "b. Prioritize personas to invest in custom campaigns\n",
    "c. Get user journey insights into the persona\n",
    "d. Create an audience targeting plan for each persona.\n",
    "e. Generate keyword lists\n",
    "f. Create an effective landing page template for each avatar.\n",
    "\n",
    "1. Create summary sheet of each avatar for the campaign\n",
    "\n",
    "This is advertising specific toolkit to get started with AI and advertising creatives. Key concepts you can leverage \n",
    "in your day to day are:\n",
    "\n",
    "a. Examples of advertising prompts.\n",
    "b. Practical means of moving data from AI to Python for processing.\n",
    "c. Using Gemini for text and fir images in tandem.\n",
    "d. Building a data structure that can be fed into a Google Ads Product.\n",
    "\n",
    "Every step in this workbook builds on the last, so if we modify a step, remember to re-run the next steps in\n",
    "the sequence. To help to tune the prompts each step is designed to be run as many times that need to get the \n",
    "output to where like it. Although can use this workbook without editing code, the prompts are intended to be customized \n",
    "and evolved to the product and needs \n",
    "\n",
    "Prompts to adjust fields and content.\n",
    "Data Structures to add or remove avatars for example.\n",
    "Models the Gemini Text model is better at text, use Gemini Vision Only for images.\n",
    "Section to add entirely new data for each avatar. \n"
   ]
  }
 ],
 "metadata": {
  "language_info": {
   "name": "python"
  }
 },
 "nbformat": 4,
 "nbformat_minor": 2
}
