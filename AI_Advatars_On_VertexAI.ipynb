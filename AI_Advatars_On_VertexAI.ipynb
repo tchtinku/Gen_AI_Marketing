{
 "cells": [
  {
   "cell_type": "code",
   "execution_count": null,
   "metadata": {
    "vscode": {
     "languageId": "plaintext"
    }
   },
   "outputs": [],
   "source": [
    "AI Advatars\n",
    "\n",
    "Use AI to evaluate an advertising creative against the most likely buyer personas. This colab walks you out through \n",
    "the step by step process so we can get ideas, customize them, and build your own client specific avatars\n",
    "\n",
    "1. Configure Gemini AI to drive the avatars.\n",
    "2. Star with a product description.\n",
    "3. Gemini will find the best avatars to evaluate\n",
    "4. Reliably move the avatars into Python structures\n",
    "5. Use each avatar to:\n",
    "\n",
    "a. Evaluate an existing image creative to get edit suggestions.\n",
    "b. Prioritize personas to invest in custom campaigns\n",
    "c. Get user journey insights into the persona\n",
    "d. Create an audience targeting plan for each persona.\n",
    "e. Generate keyword lists\n",
    "f. Create an effective landing page template for each avatar.\n",
    "\n",
    "1. Create summary sheet of each avatar for the campaign\n",
    "\n",
    "This is advertising specific toolkit to get started with AI and advertising creatives. Key concepts you can leverage \n",
    "in your day to day are:\n",
    "\n",
    "a. Examples of advertising prompts.\n",
    "b. Practical means of moving data from AI to Python for processing.\n",
    "c. Using Gemini for text and fir images in tandem.\n",
    "d. Building a data structure that can be fed into a Google Ads Product.\n",
    "\n",
    "Every step in this workbook builds on the last, so if we modify a step, remember to re-run the next steps in\n",
    "the sequence. To help to tune the prompts each step is designed to be run as many times that need to get the \n",
    "output to where like it. Although can use this workbook without editing code, the prompts are intended to be customized \n",
    "and evolved to the product and needs \n",
    "\n",
    "Prompts to adjust fields and content.\n",
    "Data Structures to add or remove avatars for example.\n",
    "Models the Gemini Text model is better at text, use Gemini Vision Only for images.\n",
    "Sections to add entirely new data for each avatar. \n",
    "\n",
    "Setting Expectations\n",
    "\n",
    "1. This is an AI integration, things may format incorrectly, try re-running a step if it errors on parsing.\n",
    "2. To see output may need to expand the cells.\n",
    "\n",
    "Setup\n",
    "\n",
    "Install Vertex AI SDK\n"
   ]
  },
  {
   "cell_type": "code",
   "execution_count": null,
   "metadata": {
    "vscode": {
     "languageId": "plaintext"
    }
   },
   "outputs": [],
   "source": [
    "!pip install google-cloud-aiplatform --upgrade --user --quiet"
   ]
  },
  {
   "cell_type": "code",
   "execution_count": null,
   "metadata": {
    "vscode": {
     "languageId": "plaintext"
    }
   },
   "outputs": [],
   "source": [
    "#Automatically restart kernel after installs so that your environment can access the new packages\n",
    "\n",
    "import IPython\n",
    "\n",
    "app = IPython.Application.instance()\n",
    "app.kernel.do_shutdown(True)"
   ]
  },
  {
   "cell_type": "markdown",
   "metadata": {},
   "source": [
    "Authenticating the notebook environment\n",
    "\n",
    "If using Colab to run this notebook, uncomment the cell below and continue. If using Vertex AI Workbench, check out the setup instructions here (https://github.com/GoogleCloudPlatform/generative-ai/tree/main/setup-env)"
   ]
  },
  {
   "cell_type": "code",
   "execution_count": null,
   "metadata": {
    "vscode": {
     "languageId": "plaintext"
    }
   },
   "outputs": [],
   "source": [
    "from google.colab import auth\n",
    "\n",
    "auth.authenticate_user()"
   ]
  },
  {
   "cell_type": "markdown",
   "metadata": {},
   "source": [
    "Set the project ID and initialize Vertex AI SDK\n",
    "\n",
    "Get PROJECT ID using gcloud"
   ]
  },
  {
   "cell_type": "code",
   "execution_count": null,
   "metadata": {
    "vscode": {
     "languageId": "plaintext"
    }
   },
   "outputs": [],
   "source": [
    "#Define project informarion\n",
    "PROJECT_ID = \"gtech-kenjora\" # @param {type:\"string\"}\n",
    "LOCATION = \"us-central1\"  # @param {type:\"string\"}\n",
    "\n",
    "# Initialize Vertex AI\n",
    "import vertexai\n",
    "\n",
    "vertexai.init(project=PROJECT_ID, location=LOCATION)"
   ]
  },
  {
   "cell_type": "markdown",
   "metadata": {},
   "source": [
    "Import Libraries"
   ]
  },
  {
   "cell_type": "code",
   "execution_count": null,
   "metadata": {
    "vscode": {
     "languageId": "plaintext"
    }
   },
   "outputs": [],
   "source": [
    "from vertexai.generative_models import GenerationConfig, GenerativeModel, Image, Part"
   ]
  },
  {
   "cell_type": "markdown",
   "metadata": {},
   "source": [
    "AI Advatars"
   ]
  },
  {
   "cell_type": "code",
   "execution_count": null,
   "metadata": {
    "vscode": {
     "languageId": "plaintext"
    }
   },
   "outputs": [],
   "source": [
    "#@title Add Product Description To Get Avatars\n",
    "#@markdown This product description will be used to build the information\n",
    "\n",
    "product = \"mazda 3 hatchback\" # @param {type:\"string\"}"
   ]
  },
  {
   "cell_type": "code",
   "execution_count": null,
   "metadata": {
    "vscode": {
     "languageId": "plaintext"
    }
   },
   "outputs": [],
   "source": [
    "#@title Add an existing Creative to evaluate against avatars\n",
    "#@markdown This image will be evaluated by the avatars\n",
    "#@markdown Click on the folder icon on the left and upload an image, then paste the path here\n",
    "\n",
    "from base64 import b64encode\n",
    "from IPython.display import HTML, Markdown\n",
    "from PIL import Image as PIL_Image\n",
    "\n",
    "def embed_image(path_to_image):\n",
    "    try:\n",
    "       img = open(path_to_image, 'rb').read()\n",
    "       return 'data:image/jpeg;base64,' + b64encode(img).decode()\n",
    "    except FileNotFoundError:\n",
    "       return ''\n",
    "\n",
    "picture_url = '/content/creative.jpg' # @param {type:\"string\"}\n",
    "\n",
    "try:\n",
    "   picture = PIL_Image.open(picture_url)\n",
    "except OSError:\n",
    "   picture = None\n",
    "   print('WARNING: No uploaded creative detected, some parts of this workbook ay not work.')\n",
    "\n",
    "HTML(f'')"
   ]
  },
  {
   "cell_type": "code",
   "execution_count": null,
   "metadata": {
    "vscode": {
     "languageId": "plaintext"
    }
   },
   "outputs": [],
   "source": [
    "#@title Set Up Imports And Helpers Plus Initialize Chat\n",
    "#@markdown This just sets up common "
   ]
  }
 ],
 "metadata": {
  "language_info": {
   "name": "python"
  }
 },
 "nbformat": 4,
 "nbformat_minor": 2
}
