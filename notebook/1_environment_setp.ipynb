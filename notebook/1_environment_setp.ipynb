{
 "cells": [
  {
   "cell_type": "markdown",
   "metadata": {},
   "source": [
    "Environment Setup\n",
    "\n",
    "Install the following python packages to setup the environment"
   ]
  },
  {
   "cell_type": "code",
   "execution_count": null,
   "metadata": {
    "vscode": {
     "languageId": "plaintext"
    }
   },
   "outputs": [],
   "source": [
    "!pip install -U google-cloud-datacatalog\n",
    "!pip install -U google-cloud-storage\n",
    "!pip install -U google-cloud-bigquery\n",
    "!pip install -U numpy"
   ]
  },
  {
   "cell_type": "markdown",
   "metadata": {},
   "source": [
    "Specify project id in the next shell"
   ]
  },
  {
   "cell_type": "code",
   "execution_count": null,
   "metadata": {
    "vscode": {
     "languageId": "plaintext"
    }
   },
   "outputs": [],
   "source": [
    "PROJECT_ID = '<YOUR PROJECT ID>'\n",
    "LOCATION = 'us-central1'\n",
    "DATASET_ID = 'cdp_dataset'\n",
    "\n",
    "#Tag template\n",
    "TAG_TEMPLATE_ID = 'llmcdptemplate'\n",
    "TAG_TEMPLATE_PATH = f'projects/{PROJECT_ID}/locations/{LOCATION}/tagtemplate/{TAG_TEMPLATE_ID}'\n",
    "\n",
    "#Set the project ID\n",
    "!gcloud config set project {PROJECT_ID}"
   ]
  },
  {
   "cell_type": "markdown",
   "metadata": {},
   "source": [
    "BigQuery: Create dataset\n",
    "\n",
    "Create a BigQuery dataset to upload the CDP data"
   ]
  },
  {
   "cell_type": "code",
   "execution_count": null,
   "metadata": {
    "vscode": {
     "languageId": "plaintext"
    }
   },
   "outputs": [],
   "source": [
    "#Create BigQuery Dataset talktodata on your project\n",
    "from google.cloud import bigquery\n",
    "from google.cloud import datacatalog_v1\n",
    "\n",
    "bq_client = bigquery.Client(project=PROJECT_ID)\n",
    "datacatalog_client = datacatalog_v1.DataCatalogClient()\n",
    "\n",
    "dataset_id = \"{}.{}\".format(bq_client.project, DATASET_ID)\n",
    "dataset = bigquery.Dataset(dataset_id)\n",
    "dataset.location = \"US\"\n",
    "\n",
    "#Create the dataset\n",
    "try:\n",
    "   dataset = bq_client.create_dataset(dataset, timeout=30)\n",
    "   print(f'Dataset {DATASET_ID} create successfully.')\n",
    "except Exception as e:\n",
    "   print(e)"
   ]
  },
  {
   "cell_type": "markdown",
   "metadata": {},
   "source": [
    "BigQuery: Create tables and populate with data\n",
    "\n",
    "The next cell will generate the synthetic data for the tables and load to BigQuery\n",
    "\n",
    "This process will take approximately 2 minute and 40 seconds.\n",
    "\n",
    "If this process fails, try to recreate the dataset with the cell above and regenerate the data"
   ]
  },
  {
   "cell_type": "code",
   "execution_count": null,
   "metadata": {
    "vscode": {
     "languageId": "plaintext"
    }
   },
   "outputs": [],
   "source": [
    "from aux_data import data_gen\n",
    "\n",
    "data_gen.generate_and_populate_dataset(\n",
    "    PROJECT_ID=PROJECT_ID,\n",
    "    DATASET_ID=DATASET_ID\n",
    ")\n"
   ]
  },
  {
   "cell_type": "markdown",
   "metadata": {},
   "source": [
    "Setup Data Catalog\n",
    "\n",
    "The cell below will execute the following steps:\n",
    "\n",
    "1. Specify a query to retrieve the metadata from the tables you just uploaded;\n",
    "2. Create a TagTemplate on Google Dataplex that specifies how the table will be tagged with metadata;\n",
    "3. Tag all tables you created on BigQuery"
   ]
  },
  {
   "cell_type": "code",
   "execution_count": null,
   "metadata": {
    "vscode": {
     "languageId": "plaintext"
    }
   },
   "outputs": [],
   "source": [
    "from aux_data import bq_tag_generation\n",
    "\n",
    "bq_tag_generation.create_template_and_tag_bq(\n",
    "    PROJECT_ID,\n",
    "    DATASET_ID,\n",
    "    TAG_TEMPLATE_ID,\n",
    "    LOCATION\n",
    ")"
   ]
  },
  {
   "cell_type": "markdown",
   "metadata": {},
   "source": [
    "Quick test\n",
    "\n",
    "Test the integration by retrieving the metadata from BigQuery tables."
   ]
  },
  {
   "cell_type": "code",
   "execution_count": null,
   "metadata": {
    "vscode": {
     "languageId": "plaintext"
    }
   },
   "outputs": [],
   "source": [
    "QUERY = f'SELECT * FROM `{PROJECT_ID}.{DATASET_ID}.INFORMATION_SCHEMA.TABLES` WHERE table_name NOT LIKE \"%metadata%\"'"
   ]
  },
  {
   "cell_type": "code",
   "execution_count": null,
   "metadata": {
    "vscode": {
     "languageId": "plaintext"
    }
   },
   "outputs": [],
   "source": [
    "def get_tags_from_table(table_id):\n",
    "#Lookup Data Catalog's Entry referring to the table.\n",
    "resource_name = (\n",
    "    f\"//bigquery.googleapis.com/projects/{PROJECT_ID}/datasets/{DATASET_ID}/tables/{table_id}\"\n",
    ")\n",
    "table_entry = datacatalog_client.list_tags(parent=table_entry.name)\n",
    "#print(page_result)\n",
    "\n",
    "tags_str = ''\n",
    "\n",
    "for response in page_result:\n",
    "    if response.template == TAG_TEMPLATE_PATH:\n",
    "       desc = response.fields[\"description\"].string_value\n",
    "       data_type = response.fields[\"data_type\"].string_value\n",
    "       pk = response.fields[\"is_primary_key\"].bool_value\n",
    "       fk = response.fields[\"is_foreign_key\"].bool_value\n",
    "       tags_str += (\"Table: {} \"\n",
    "                    \"- Column: {}\"\n",
    "                    \"- Data Type: {} \"\n",
    "                    \"- Primary Key: {} \"\n",
    "                    \"- Foreign Key: {} \"\n",
    "                    \"- Description: {}\\n\".format(\n",
    "                        table_id, response.column, data_type pk, fk, desc\n",
    "                    ))\n",
    "    return tags_str"
   ]
  }
 ],
 "metadata": {
  "language_info": {
   "name": "python"
  }
 },
 "nbformat": 4,
 "nbformat_minor": 2
}
