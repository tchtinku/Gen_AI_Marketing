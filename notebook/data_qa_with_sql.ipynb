{
 "cells": [
  {
   "cell_type": "markdown",
   "metadata": {},
   "source": [
    "Data Q&A with PaLM API and GoogleSQL\n",
    "\n",
    "Overview\n",
    "\n",
    "Data Q&A with PaLM API and SQL is a new way to interact with data. PaLM API is a large language model from Google AI, trained on a massive dataset of text and code. SQL is a standard language for accessing and manipulating data in databases. By combining these 2 technologies, you can ask questions about data in a natural language way, and PaLM API will generate SQL queries that can be used to answer your questions.\n",
    "\n",
    "The notebook is structured as follows:\n",
    "\n",
    "1. You will begin by querying a dataset and previewing its dataset\n",
    "2. Next, you formulate questions to ask your data \n",
    "3. Finally, we create a prompt, including all the metadata from the dataset and your question, and submit to the model. The model will generate GoogleSQL code to query BigQuery.\n",
    "\n",
    "The prompts were inspired by the guidelines provided in the paper https://arxiv.org/pdf/2306.00739.pdf - SQL PaLM: Improved Large Language Model Adaptation for text to SQL\n",
    "\n",
    "Install pre-requisites\n",
    "Install python packages"
   ]
  },
  {
   "cell_type": "code",
   "execution_count": null,
   "metadata": {
    "vscode": {
     "languageId": "plaintext"
    }
   },
   "outputs": [],
   "source": [
    "!pip install google-cloud-datacatalog\n",
    "!pip install google-cloud-aiplatform\n",
    "!pip install pandas\n",
    "!pip install google-api-python-client\n",
    "!pip install python-datautil\n",
    "!pip install google-cloud-bigquery"
   ]
  },
  {
   "cell_type": "markdown",
   "metadata": {},
   "source": [
    "Before executing this notebook, setup the dataset on BigQuery and TagTemplate on Dataplex\n",
    "\n",
    "---------------\n",
    "Do not forget to restart the runtime before continuing\n",
    "---------------\n",
    "\n",
    "Configure Google Cloud environment settings\n",
    "\n",
    "Set the following "
   ]
  }
 ],
 "metadata": {
  "language_info": {
   "name": "python"
  }
 },
 "nbformat": 4,
 "nbformat_minor": 2
}
