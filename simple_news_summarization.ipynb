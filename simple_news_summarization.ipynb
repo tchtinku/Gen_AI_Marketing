{
 "cells": [
  {
   "cell_type": "markdown",
   "metadata": {},
   "source": [
    "News summarization with PaLM API\n",
    "\n",
    "Overview\n",
    "\n",
    "This notebook illustrates how to use Vertex AI PaLM text models for news summarization. You will discover the most popular Google Search terms and summarize news articles related to those terms. A system like that could be beneficial in a variety of business situations, including marketing, political analysis, and more.\n",
    "\n",
    "Trending search terms are retrieved from Google Trends dataset and news articles from the GDELT database. The Google Trends dataset contains the top 25 overall and top 25 rising queries from Google Trends in past 30 days. The dataset is hosted on Google BigQuery as part of Google Cloud Datasets initiative.\n",
    "\n",
    "The GDELT Project, which is supported by Google Jigsaw, monitors the world's broadcast, print, and web news from nearly every corner of every country in over 100  languages. The GDELT database is free to use and accessible via variety of interfaces, including Google BigQuery and the REST API. In this notebook, we will be using the REST API.\n",
    "\n",
    "This notebook is as follows \n",
    "\n",
    "1. We will begin by installing the necessary packages and configuring the GCP environment.\n",
    "2. we will query Google Trends dataset to bring top search terms.\n",
    "3. we will query GDELT API to bring news related to top search terms.\n",
    "4. Finally, we will summarize these news articles"
   ]
  },
  {
   "cell_type": "markdown",
   "metadata": {},
   "source": [
    "Install pre-requisites\n",
    "\n",
    "Install the following python packages"
   ]
  },
  {
   "cell_type": "code",
   "execution_count": null,
   "metadata": {
    "vscode": {
     "languageId": "plaintext"
    }
   },
   "outputs": [],
   "source": [
    "! pip install -U google-cloud-aiplatform\n",
    "! pip install -U python-dateutil\n",
    "! pip install -U newspaper3k"
   ]
  },
  {
   "cell_type": "markdown",
   "metadata": {},
   "source": [
    "Do not forget to restart the runtime before continue\n",
    "\n",
    "Configure Google Cloud environment settings\n",
    "\n",
    "Set the following constants to reflect your GCP environment\n",
    "\n",
    "1. PROJECT_ID: Your Google Cloud Project ID.\n",
    "2. REGION: The region to use for VERTEX AI"
   ]
  },
  {
   "cell_type": "code",
   "execution_count": null,
   "metadata": {
    "vscode": {
     "languageId": "plaintext"
    }
   },
   "outputs": [],
   "source": [
    "PROJECT_ID = '<YOUR PROJECT ID HERE>'\n",
    "REGION = 'us-central1'"
   ]
  },
  {
   "cell_type": "markdown",
   "metadata": {},
   "source": [
    "Initialize the SDK and import some modules."
   ]
  },
  {
   "cell_type": "code",
   "execution_count": null,
   "metadata": {
    "vscode": {
     "languageId": "plaintext"
    }
   },
   "outputs": [],
   "source": [
    "import logging\n",
    "import os\n",
    "import requests\n",
    "import vertexai\n",
    "\n",
    "from newspaper import Article\n",
    "from newspaper import ArticleException\n",
    "\n",
    "from dateutil.parser import parse as parse_date\n",
    "from datetime import date, timedelta, datetime\n",
    "from google.cloud import bigquery\n",
    "from vertexai.preview.language_models import TextGenerationModel\n",
    "from typing import Any, Dict, List\n",
    "\n",
    "logging.basicConfig(level = logging.INFO)\n",
    "vertexai.init(project=PROJECT_INFO)\n",
    "\n",
    "bq_client = bigquery.Client(project=PROJECT_ID)\n",
    "llm = TextGenerationModel.from_pretrained(\"text-bison@001\")\n"
   ]
  },
  {
   "cell_type": "markdown",
   "metadata": {},
   "source": [
    "Google Trends lookup tool\n",
    "\n",
    "Returns top (rank 1) search term(s) for a given date"
   ]
  },
  {
   "cell_type": "code",
   "execution_count": null,
   "metadata": {
    "vscode": {
     "languageId": "plaintext"
    }
   },
   "outputs": [],
   "source": [
    "class GoogleTrends:\n",
    "     \"\"\"Get Trends from BQ dataset\n",
    "     Useful for when you need to find top search terms on a given date.\n",
    "     Input is a JSON object that has the field date.\n",
    "     \"\"\"\n",
    "\n",
    "     def __init__(\n",
    "             self,\n",
    "             project_id: str,\n",
    "             bq_client: Any):\n",
    "        self.project_id = project_id\n",
    "        self.bq_client = bq_client\n",
    "\n",
    "     def run(self, json_params: Dict):\n",
    "         refresh_date = self._parse_date(json_params)"
   ]
  }
 ],
 "metadata": {
  "language_info": {
   "name": "python"
  }
 },
 "nbformat": 4,
 "nbformat_minor": 2
}
