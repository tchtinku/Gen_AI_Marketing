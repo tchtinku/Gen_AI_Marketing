{
 "cells": [
  {
   "cell_type": "markdown",
   "metadata": {},
   "source": [
    "News summarization with PaLM API\n",
    "\n",
    "Overview\n",
    "\n",
    "This notebook illustrates how to use Vertex AI PaLM text models for news summarization"
   ]
  }
 ],
 "metadata": {
  "language_info": {
   "name": "python"
  }
 },
 "nbformat": 4,
 "nbformat_minor": 2
}
