{
 "cells": [
  {
   "cell_type": "markdown",
   "metadata": {},
   "source": [
    "News summarization with PaLM API\n",
    "\n",
    "Overview\n",
    "\n",
    "This notebook illustrates how to use Vertex AI PaLM text models for news summarization. You will discover the most popular Google Search terms and summarize news articles related to those terms. A system like that could be beneficial in a variety of business situations, including marketing, political analysis, and more.\n",
    "\n",
    "Trending search terms are retrieved from Google Trends dataset and news articles from the GDELT database. The Google Trends dataset contains the top 25 overall and top 25 rising queries from Google Trends in past 30 days. The dataset is hosted on Google BigQuery as part of Google Cloud Datasets initiative.\n",
    "\n",
    "The GDELT Project, which is supported by Google Jigsaw, monitors the world's broadcast, print, and web news from nearly every corner of every country in over 100  languages. The GDELT database is free to use and accessible via variety of interfaces, including Google BigQuery and the REST API. In this notebook, we will be using the REST API."
   ]
  }
 ],
 "metadata": {
  "language_info": {
   "name": "python"
  }
 },
 "nbformat": 4,
 "nbformat_minor": 2
}
